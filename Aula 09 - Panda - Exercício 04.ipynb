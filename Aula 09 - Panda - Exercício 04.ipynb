{
 "cells": [
  {
   "cell_type": "markdown",
   "metadata": {},
   "source": [
    "b) Com base na coluna Vendedor, construa um código que permita remover as\n",
    "duplicadas da coluna informada, e na sequência, filtre o dataframe e gere um\n",
    "relatório individual para cada vendedor. Para fazer isso, siga os procedimentos\n",
    "a seguir:"
   ]
  },
  {
   "cell_type": "code",
   "execution_count": 6,
   "metadata": {},
   "outputs": [
    {
     "data": {
      "text/html": [
       "<div>\n",
       "<style scoped>\n",
       "    .dataframe tbody tr th:only-of-type {\n",
       "        vertical-align: middle;\n",
       "    }\n",
       "\n",
       "    .dataframe tbody tr th {\n",
       "        vertical-align: top;\n",
       "    }\n",
       "\n",
       "    .dataframe thead th {\n",
       "        text-align: right;\n",
       "    }\n",
       "</style>\n",
       "<table border=\"1\" class=\"dataframe\">\n",
       "  <thead>\n",
       "    <tr style=\"text-align: right;\">\n",
       "      <th></th>\n",
       "      <th>ID-Produto</th>\n",
       "      <th>Produto</th>\n",
       "      <th>Categoria</th>\n",
       "      <th>Segmento</th>\n",
       "      <th>Fabricante</th>\n",
       "      <th>Loja</th>\n",
       "      <th>Cidade</th>\n",
       "      <th>Estado</th>\n",
       "      <th>Vendedor</th>\n",
       "      <th>ID-Vendedor</th>\n",
       "      <th>Data Venda</th>\n",
       "      <th>ValorVenda</th>\n",
       "    </tr>\n",
       "  </thead>\n",
       "  <tbody>\n",
       "    <tr>\n",
       "      <th>0</th>\n",
       "      <td>SKU-0000001</td>\n",
       "      <td>LG K10 TV Power</td>\n",
       "      <td>Celulares</td>\n",
       "      <td>Corporativo</td>\n",
       "      <td>LG</td>\n",
       "      <td>SP8821</td>\n",
       "      <td>São Paulo</td>\n",
       "      <td>São Paulo</td>\n",
       "      <td>Ana Teixeira</td>\n",
       "      <td>1009</td>\n",
       "      <td>2012-10-04</td>\n",
       "      <td>679.00</td>\n",
       "    </tr>\n",
       "    <tr>\n",
       "      <th>1</th>\n",
       "      <td>SKU-0000002</td>\n",
       "      <td>Geladeira Duplex</td>\n",
       "      <td>Eletrodomésticos</td>\n",
       "      <td>Doméstico</td>\n",
       "      <td>Brastemp</td>\n",
       "      <td>SP8821</td>\n",
       "      <td>São Paulo</td>\n",
       "      <td>São Paulo</td>\n",
       "      <td>Josias Silva</td>\n",
       "      <td>1006</td>\n",
       "      <td>2012-01-01</td>\n",
       "      <td>832.00</td>\n",
       "    </tr>\n",
       "    <tr>\n",
       "      <th>2</th>\n",
       "      <td>SKU-0000003</td>\n",
       "      <td>Lavadora 11 Kg</td>\n",
       "      <td>Eletrodomésticos</td>\n",
       "      <td>Doméstico</td>\n",
       "      <td>Brastemp</td>\n",
       "      <td>SP8821</td>\n",
       "      <td>São Paulo</td>\n",
       "      <td>São Paulo</td>\n",
       "      <td>Josias Silva</td>\n",
       "      <td>1006</td>\n",
       "      <td>2012-02-02</td>\n",
       "      <td>790.00</td>\n",
       "    </tr>\n",
       "    <tr>\n",
       "      <th>3</th>\n",
       "      <td>SKU-0000004</td>\n",
       "      <td>Lavadora 11 Kg</td>\n",
       "      <td>Eletrodomésticos</td>\n",
       "      <td>Doméstico</td>\n",
       "      <td>Brastemp</td>\n",
       "      <td>SP8821</td>\n",
       "      <td>São Paulo</td>\n",
       "      <td>São Paulo</td>\n",
       "      <td>Mateus Gonçalves</td>\n",
       "      <td>1003</td>\n",
       "      <td>2012-03-03</td>\n",
       "      <td>765.32</td>\n",
       "    </tr>\n",
       "    <tr>\n",
       "      <th>4</th>\n",
       "      <td>SKU-0000005</td>\n",
       "      <td>Lavadora 11 Kg</td>\n",
       "      <td>Eletrodomésticos</td>\n",
       "      <td>Doméstico</td>\n",
       "      <td>Electrolux</td>\n",
       "      <td>SP8821</td>\n",
       "      <td>São Paulo</td>\n",
       "      <td>São Paulo</td>\n",
       "      <td>Artur Moreira</td>\n",
       "      <td>1004</td>\n",
       "      <td>2012-04-04</td>\n",
       "      <td>459.89</td>\n",
       "    </tr>\n",
       "  </tbody>\n",
       "</table>\n",
       "</div>"
      ],
      "text/plain": [
       "    ID-Produto           Produto         Categoria     Segmento  Fabricante  \\\n",
       "0  SKU-0000001   LG K10 TV Power         Celulares  Corporativo          LG   \n",
       "1  SKU-0000002  Geladeira Duplex  Eletrodomésticos    Doméstico    Brastemp   \n",
       "2  SKU-0000003    Lavadora 11 Kg  Eletrodomésticos    Doméstico    Brastemp   \n",
       "3  SKU-0000004    Lavadora 11 Kg  Eletrodomésticos    Doméstico    Brastemp   \n",
       "4  SKU-0000005    Lavadora 11 Kg  Eletrodomésticos    Doméstico  Electrolux   \n",
       "\n",
       "     Loja     Cidade     Estado          Vendedor  ID-Vendedor Data Venda  \\\n",
       "0  SP8821  São Paulo  São Paulo      Ana Teixeira         1009 2012-10-04   \n",
       "1  SP8821  São Paulo  São Paulo      Josias Silva         1006 2012-01-01   \n",
       "2  SP8821  São Paulo  São Paulo      Josias Silva         1006 2012-02-02   \n",
       "3  SP8821  São Paulo  São Paulo  Mateus Gonçalves         1003 2012-03-03   \n",
       "4  SP8821  São Paulo  São Paulo     Artur Moreira         1004 2012-04-04   \n",
       "\n",
       "   ValorVenda  \n",
       "0      679.00  \n",
       "1      832.00  \n",
       "2      790.00  \n",
       "3      765.32  \n",
       "4      459.89  "
      ]
     },
     "execution_count": 6,
     "metadata": {},
     "output_type": "execute_result"
    }
   ],
   "source": [
    "import pandas as pd\n",
    "\n",
    "patch = 'C:\\\\Users\\\\FIC\\\\Documents\\\\Henrique-Rodrigues\\\\003 - Arquivos\\\\'\n",
    "\n",
    "file = 'dados-vendas.xlsx'\n",
    "\n",
    "\n",
    "dados = pd.read_excel(patch + file, sheet_name='Vendas')\n",
    "\n",
    "dados.head()"
   ]
  },
  {
   "cell_type": "markdown",
   "metadata": {},
   "source": [
    "7. Crie um dataframe chamado df_vendedores, para atribuir valores a ele\n",
    "você deve selecionar apenas a coluna Vendedores e remover as\n",
    "duplicadas do mesmo. Confirme se realmente o comando removeu as\n",
    "duplicadas.\n",
    "\n",
    "Após isso, crie uma lista com o seguinte nome listaVendedores, essa\n",
    "lista deve receber os dados do dataframe df_vendedores. Para isso,\n",
    "você deve converter o dataframe em lista, utilize o comando\n",
    "dataframe.tolist()."
   ]
  },
  {
   "cell_type": "code",
   "execution_count": 23,
   "metadata": {},
   "outputs": [
    {
     "data": {
      "text/plain": [
       "['Ana Teixeira',\n",
       " 'Josias Silva',\n",
       " 'Mateus Gonçalves',\n",
       " 'Artur Moreira',\n",
       " 'Rodrigo Fagundes',\n",
       " 'Fernando Zambrini',\n",
       " 'André Pereira',\n",
       " 'Maria Fernandes',\n",
       " 'Aline Sutter']"
      ]
     },
     "execution_count": 23,
     "metadata": {},
     "output_type": "execute_result"
    }
   ],
   "source": [
    "df_vendedores = dados['Vendedor'].drop_duplicates()\n",
    "\n",
    "lista_vendedores = df_vendedores.tolist()\n",
    "\n",
    "lista_vendedores"
   ]
  },
  {
   "cell_type": "markdown",
   "metadata": {},
   "source": [
    "8. Construa uma estrutura de repetição (FOR) para que a variável\n",
    "vendedor receba os nomes que estão na lista listaVendedores e filtre\n",
    "o dataframe dados, utilizando a coluna Vendedores para que gere um\n",
    "novo dataframe (df_final) para cada vendedor. Ainda na estrutura de\n",
    "repetição, você deve inserir uma linha de código para gerar um arquivo\n",
    "em Excel para cada vendedor, utilize o comando dataframe.to_excel.\n",
    "\n",
    "você deve converter o dataframe em lista, utilize o\n",
    "comando\n",
    "dataframe.tolist()."
   ]
  },
  {
   "cell_type": "code",
   "execution_count": 25,
   "metadata": {},
   "outputs": [],
   "source": [
    "for vendedores in lista_vendedores:\n",
    "\n",
    "    df_final = dados[dados['Vendedor']== vendedores]\n",
    "    patch_new = patch + 'Relatorio Vendedores\\\\'\n",
    "\n",
    "    df_final.to_excel(patch_new + vendedores + '.xlsx', index= False)\n"
   ]
  },
  {
   "cell_type": "markdown",
   "metadata": {},
   "source": [
    "9. Construa uma estrutura de repetição (FOR) para que a variável\n",
    "vendedor receba os nomes que estão na lista listaVendedores\n",
    "e filtreo dataframe dados, utilizando a coluna Vendedores para\n",
    "que gere um novo dataframe (df_final) para cada vendedor.\n",
    "Ainda na estrutura de repetição, você deve inserir uma linha de\n",
    "código para gerar um arquivoem Excel para cada vendedor,\n",
    "utilize o comando dataframe.to_excel."
   ]
  },
  {
   "cell_type": "code",
   "execution_count": 32,
   "metadata": {},
   "outputs": [],
   "source": [
    "df_categoria = dados['Categoria'].drop_duplicates()\n",
    "\n",
    "lista_Categoria = df_categoria.tolist()\n",
    "\n",
    "\n",
    "for Categoria_Vendas in lista_Categoria:\n",
    "\n",
    "    df_final = dados[dados['Categoria']== Categoria_Vendas]\n",
    "    patch_Ca = patch + 'Categoria Vendas\\\\'\n",
    "\n",
    "    df_final.to_excel(patch_new + Categoria_Vendas + '.xlsx', index= False)"
   ]
  },
  {
   "cell_type": "code",
   "execution_count": 35,
   "metadata": {},
   "outputs": [],
   "source": [
    "df_Segmento = dados['Segmento'].drop_duplicates()\n",
    "\n",
    "lista_Segmento = df_Segmento.tolist()\n",
    "\n",
    "\n",
    "for Segmento_Vendas in lista_Segmento:\n",
    "\n",
    "    df_final = dados[dados['Segmento']== Segmento_Vendas]\n",
    "    patch_new = patch + 'Segmento Vendas\\\\'\n",
    "\n",
    "    df_final.to_excel(patch_new + Segmento_Vendas + '.xlsx', index= False)"
   ]
  },
  {
   "cell_type": "code",
   "execution_count": 36,
   "metadata": {},
   "outputs": [],
   "source": [
    "df_Fabricante = dados['Fabricante'].drop_duplicates()\n",
    "\n",
    "lista_Fabricante = df_Fabricante.tolist()\n",
    "\n",
    "\n",
    "for Fabricante_Vendas in lista_Fabricante:\n",
    "\n",
    "    df_final = dados[dados['Fabricante']== Fabricante_Vendas]\n",
    "    patch_new = patch + 'Fabricante\\\\'\n",
    "\n",
    "    df_final.to_excel(patch_new + Fabricante_Vendas + '.xlsx', index= False)"
   ]
  },
  {
   "cell_type": "code",
   "execution_count": 37,
   "metadata": {},
   "outputs": [],
   "source": [
    "df_Cidade = dados['Cidade'].drop_duplicates()\n",
    "\n",
    "lista_Cidade = df_Cidade.tolist()\n",
    "\n",
    "\n",
    "for Cidade_Vendas in lista_Cidade:\n",
    "\n",
    "    df_final = dados[dados['Cidade']== Cidade_Vendas]\n",
    "    patch_new = patch + 'Cidade venda\\\\'\n",
    "\n",
    "    df_final.to_excel(patch_new + Cidade_Vendas + '.xlsx', index= False)"
   ]
  },
  {
   "cell_type": "code",
   "execution_count": 38,
   "metadata": {},
   "outputs": [],
   "source": [
    "df_Estado = dados['Estado'].drop_duplicates()\n",
    "\n",
    "lista_Estado = df_Estado.tolist()\n",
    "\n",
    "\n",
    "for Estado_Vendas in lista_Estado:\n",
    "\n",
    "    df_final = dados[dados['Estado']== Estado_Vendas]\n",
    "    patch_new = patch + 'Estado venda\\\\'\n",
    "\n",
    "    df_final.to_excel(patch_new + Estado_Vendas + '.xlsx', index= False)"
   ]
  },
  {
   "cell_type": "markdown",
   "metadata": {},
   "source": [
    "Exercício 05 – Construa um script em python, utilizando as bibliotecas Pandas\n",
    "e OS(Operating System) para concatenar os arquivos que estão na pasta filiais.\n",
    "Para isso para, faça os seguintes passos:"
   ]
  },
  {
   "cell_type": "markdown",
   "metadata": {},
   "source": [
    "a) Importe as bibliotecas Pandas e OS;\n",
    "\n",
    "b) Declare uma variável chamada dir_path para armazenar o caminho\n",
    "dodiretório que contém os arquivos a serem combinados;\n",
    "\n",
    "c) Crie uma lista vazia chamada res (repositório) para salvar a string do\n",
    "caminho\n",
    "+ nome dos arquivos salvas na pasta filais;\n",
    "\n",
    "d) Crie uma estrutura de repetição, utilizando FOR, para capturar o nome\n",
    "dos arquivos que estão no repositório indicado na variável dir_path.\n",
    "Nesta estrutura você deve utilizar o comando os.listdir, este comando\n",
    "lista todos osarquivos que estão dentro de um determinado diretório."
   ]
  },
  {
   "cell_type": "code",
   "execution_count": 40,
   "metadata": {},
   "outputs": [],
   "source": [
    "import os\n"
   ]
  },
  {
   "cell_type": "code",
   "execution_count": 44,
   "metadata": {},
   "outputs": [],
   "source": [
    "dir_path = os.chdir('C:\\\\Users\\\\FIC\\\\Documents\\\\Henrique-Rodrigues\\\\003 - Arquivos\\\\filiais\\\\')"
   ]
  },
  {
   "cell_type": "code",
   "execution_count": 43,
   "metadata": {},
   "outputs": [
    {
     "data": {
      "text/plain": [
       "'C:\\\\Users\\\\FIC\\\\Documents\\\\Henrique-Rodrigues\\\\003 - Arquivos\\\\filiais'"
      ]
     },
     "execution_count": 43,
     "metadata": {},
     "output_type": "execute_result"
    }
   ],
   "source": [
    "res = "
   ]
  }
 ],
 "metadata": {
  "kernelspec": {
   "display_name": "Python 3",
   "language": "python",
   "name": "python3"
  },
  "language_info": {
   "codemirror_mode": {
    "name": "ipython",
    "version": 3
   },
   "file_extension": ".py",
   "mimetype": "text/x-python",
   "name": "python",
   "nbconvert_exporter": "python",
   "pygments_lexer": "ipython3",
   "version": "3.11.0"
  },
  "orig_nbformat": 4
 },
 "nbformat": 4,
 "nbformat_minor": 2
}
