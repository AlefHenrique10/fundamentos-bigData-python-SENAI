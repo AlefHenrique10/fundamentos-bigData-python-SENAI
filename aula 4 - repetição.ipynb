{
 "cells": [
  {
   "cell_type": "markdown",
   "metadata": {},
   "source": [
    "## Estrutrura de repetição FOR"
   ]
  },
  {
   "cell_type": "code",
   "execution_count": null,
   "metadata": {},
   "outputs": [
    {
     "name": "stdout",
     "output_type": "stream",
     "text": [
      "Abacaxi\n",
      "Laranja\n",
      "Goiaba\n",
      "Banana\n"
     ]
    }
   ],
   "source": [
    "frutas = ['Abacaxi', 'Laranja', 'Goiaba', 'Banana']\n",
    "\n",
    "for fruta in frutas:\n",
    "    print(fruta)"
   ]
  },
  {
   "cell_type": "markdown",
   "metadata": {},
   "source": [
    "## Exercício 1\n",
    "\n",
    "Crie uma estrutura de repetição para imprimir valores de 0 a 10"
   ]
  },
  {
   "cell_type": "code",
   "execution_count": null,
   "metadata": {},
   "outputs": [
    {
     "name": "stdout",
     "output_type": "stream",
     "text": [
      "0\n",
      "1\n",
      "2\n",
      "3\n",
      "4\n",
      "5\n",
      "6\n",
      "7\n",
      "8\n",
      "9\n",
      "10\n"
     ]
    }
   ],
   "source": [
    "contagem = [0,1,2,3,4,5,6,7,8,9,10]\n",
    "\n",
    "for mostrar in contagem:\n",
    "    print(mostrar)"
   ]
  },
  {
   "cell_type": "markdown",
   "metadata": {},
   "source": [
    "## Exercício 12 - Desenvolva um gerador de tabuada, capaz de gerar a tabuada de\n",
    "qualquer número inteiro entre 1 a 10. O usuário deve informar de qual numero ele deseja\n",
    "ver a tabuada. A saída deve ser conforme o exemplo abaixo:"
   ]
  },
  {
   "cell_type": "code",
   "execution_count": null,
   "metadata": {},
   "outputs": [
    {
     "name": "stdout",
     "output_type": "stream",
     "text": [
      "TABUADO DO NUMERO 7\n",
      "7 X 1 = 7\n",
      "7 X 2 = 14\n",
      "7 X 3 = 21\n",
      "7 X 4 = 28\n",
      "7 X 5 = 35\n",
      "7 X 6 = 42\n",
      "7 X 7 = 49\n",
      "7 X 8 = 56\n",
      "7 X 9 = 63\n",
      "7 X 10 = 70\n"
     ]
    }
   ],
   "source": [
    "multiplicador = int(input('Digite a tabuada que deseja: '))\n",
    "\n",
    "tabuada = [1,2,3,4,5,6,7,8,9,10]\n",
    "\n",
    "print(f'TABUADO DO NUMERO {multiplicador}')\n",
    "\n",
    "for tab in tabuada:\n",
    "    print(f'{multiplicador} X {tab} = {tab * multiplicador}')"
   ]
  },
  {
   "cell_type": "markdown",
   "metadata": {},
   "source": [
    "## Exercício 06 - \n",
    "Faça um programa que imprima na tela os números de 1 a 20, um abaixo\n",
    "do outro. Depois modifique o programa para que ele mostre os números um ao lado do\n",
    "outro."
   ]
  },
  {
   "cell_type": "code",
   "execution_count": null,
   "metadata": {},
   "outputs": [
    {
     "name": "stdout",
     "output_type": "stream",
     "text": [
      "1\n",
      "2\n",
      "3\n",
      "4\n",
      "5\n",
      "6\n",
      "7\n",
      "8\n",
      "9\n",
      "10\n",
      "11\n",
      "12\n",
      "13\n",
      "14\n",
      "15\n",
      "16\n",
      "17\n",
      "18\n",
      "19\n",
      "20\n"
     ]
    }
   ],
   "source": [
    "num = range(1,21)\n",
    "\n",
    "\n",
    "#Exibir valores na vertical\n",
    "for i in num:\n",
    "    print(i)"
   ]
  },
  {
   "cell_type": "markdown",
   "metadata": {},
   "source": [
    "## Exibir na horizontal"
   ]
  },
  {
   "cell_type": "code",
   "execution_count": null,
   "metadata": {},
   "outputs": [
    {
     "name": "stdout",
     "output_type": "stream",
     "text": [
      "[1, 2, 3, 4, 5, 6, 7, 8, 9, 10, 11, 12, 13, 14, 15, 16, 17, 18, 19, 20]\n"
     ]
    }
   ],
   "source": [
    "num = range(1,21)\n",
    "\n",
    "lista = []\n",
    "#Exibir valores na vertical\n",
    "for i in num:\n",
    "    lista.append(i)\n",
    "print(lista)   "
   ]
  },
  {
   "cell_type": "markdown",
   "metadata": {},
   "source": [
    "## Exercício 09 - \n",
    "Faça um programa que imprima na tela apenas os números ímpares\n",
    "entre 1 e 50."
   ]
  },
  {
   "cell_type": "code",
   "execution_count": null,
   "metadata": {},
   "outputs": [
    {
     "name": "stdout",
     "output_type": "stream",
     "text": [
      "1\n",
      "3\n",
      "5\n",
      "7\n",
      "9\n",
      "11\n",
      "13\n",
      "15\n",
      "17\n",
      "19\n",
      "21\n",
      "23\n",
      "25\n",
      "27\n",
      "29\n",
      "31\n",
      "33\n",
      "35\n",
      "37\n",
      "39\n",
      "41\n",
      "43\n",
      "45\n",
      "47\n",
      "49\n"
     ]
    }
   ],
   "source": [
    "num = range(1,51)\n",
    "\n",
    "for i in num:\n",
    "    if i % 2 != 0:\n",
    "        print(i)\n",
    "    "
   ]
  },
  {
   "cell_type": "markdown",
   "metadata": {},
   "source": [
    "## Exercício 10 - \n",
    "Faça um programa que receba dois números inteiros e gere os números\n",
    "inteiros que estão no intervalo compreendido por eles."
   ]
  },
  {
   "cell_type": "code",
   "execution_count": null,
   "metadata": {},
   "outputs": [
    {
     "name": "stdout",
     "output_type": "stream",
     "text": [
      "4\n",
      "5\n",
      "6\n",
      "7\n",
      "8\n",
      "9\n"
     ]
    }
   ],
   "source": [
    "num_1 = int(input('Digite um numero: '))\n",
    "num_2 = int(input('Digite outro numero: '))\n",
    "\n",
    "if num_2 < num_1:\n",
    "     num_1 = num_2, num_2 = num_1\n",
    "\n",
    "exibir = range(num_1,num_2+1)\n",
    "\n",
    "for i in exibir:\n",
    "    print(i)"
   ]
  },
  {
   "cell_type": "markdown",
   "metadata": {},
   "source": [
    "## Exercício 11 - \n",
    "Altere o programa anterior para mostrar no final a soma dos números."
   ]
  },
  {
   "cell_type": "code",
   "execution_count": null,
   "metadata": {},
   "outputs": [
    {
     "name": "stdout",
     "output_type": "stream",
     "text": [
      "[4, 5, 6, 7, 8, 9]\n",
      "18\n"
     ]
    }
   ],
   "source": [
    "num_1 = int(input('Digite um numero: '))\n",
    "num_2 = int(input('Digite outro numero: '))\n",
    "\n",
    "exibir = range(num_1,num_2+1)\n",
    "\n",
    "lista = []\n",
    "total = 0\n",
    "total = total + i\n",
    "\n",
    "for i in exibir:\n",
    "    lista.append(i)    \n",
    "print(lista)\n",
    "print(total+i)"
   ]
  },
  {
   "cell_type": "markdown",
   "metadata": {},
   "source": [
    "## Exercício 14 - \n",
    "Faça um programa que peça 10 números inteiros, calcule e mostre a\n",
    "quantidade de números pares e a quantidade de números ímpares."
   ]
  },
  {
   "cell_type": "code",
   "execution_count": null,
   "metadata": {},
   "outputs": [
    {
     "name": "stdout",
     "output_type": "stream",
     "text": [
      "Neste conjunto de numeros, contém 7 impares e 3 pares.\n",
      "[20, 15, 46, 52, 35, 9, 35, 15, 153, 513]\n"
     ]
    }
   ],
   "source": [
    "numeros = []\n",
    "\n",
    "i = 1\n",
    "\n",
    "while i <= 10:\n",
    "    num = int(input('Digite um numero: '))\n",
    "    numeros.append(num)\n",
    "    i +=1\n",
    "\n",
    "impar = 0\n",
    "par = 0 \n",
    "\n",
    "for i in numeros:\n",
    "    if i % 2 !=0:\n",
    "        impar += 1\n",
    "    else:\n",
    "        par += 1\n",
    "print(f'Neste conjunto de numeros, contém {impar} impares e {par} pares.')\n",
    "print(numeros)"
   ]
  },
  {
   "cell_type": "code",
   "execution_count": null,
   "metadata": {},
   "outputs": [
    {
     "name": "stdout",
     "output_type": "stream",
     "text": [
      "[50, 40, 10, 50, 60, 20, 10, 50, 50, 40]\n"
     ]
    }
   ],
   "source": [
    "lista = []\n",
    "\n",
    "i = 1\n",
    "\n",
    "while i <= 10:\n",
    "    num = int(input('Digite um numero: '))\n",
    "    lista.append(num)\n",
    "    i +=1\n",
    "print(lista)"
   ]
  },
  {
   "cell_type": "markdown",
   "metadata": {},
   "source": [
    "## Exercício 08 - \n",
    "Faça um programa que leia 5 números e informe a soma e a média dos\n",
    "números."
   ]
  },
  {
   "cell_type": "code",
   "execution_count": null,
   "metadata": {},
   "outputs": [
    {
     "name": "stdout",
     "output_type": "stream",
     "text": [
      "[50.0, 50.0, 50.0, 50.0, 50.0]\n",
      "A media dos numeros digitados é 50.0 e a soma é 250.0\n"
     ]
    }
   ],
   "source": [
    "#Lita vazia para armazenar os valores digitados\n",
    "lista = []\n",
    "\n",
    "#variavel de controle de repetição\n",
    "i = 0 \n",
    "\n",
    "#Estrutura de repetição.( solicitar 5 numeros)\n",
    "while i < 5:\n",
    "    num = float(input('Digite um numero: '))\n",
    "    lista.append(num)\n",
    "    i += 1\n",
    "\n",
    "soma = 0\n",
    "media = 0\n",
    "\n",
    "for e in lista:\n",
    "    # somar a variavel, para calcular média e soma.\n",
    "    soma = soma + e\n",
    "    media = soma / i\n",
    "print(lista)\n",
    "print(f'A media dos numeros digitados é {media} e a soma é {soma}')"
   ]
  },
  {
   "cell_type": "markdown",
   "metadata": {},
   "source": [
    "## Exercício 17 - \n",
    "Faça um programa que calcule o fatorial de um número inteiro fornecido\n",
    "pelo usuário. Ex.: 5!=5.4.3.2.1=120"
   ]
  },
  {
   "cell_type": "code",
   "execution_count": 102,
   "metadata": {},
   "outputs": [
    {
     "name": "stdout",
     "output_type": "stream",
     "text": [
      "********** Cálculo de Fatorial **********\n",
      "A fatoração do numero digitado é 120\n"
     ]
    }
   ],
   "source": [
    "print('********** Cálculo de Fatorial **********')\n",
    "\n",
    "#Solicitar o valor\n",
    "i = int(input('Digite um numero: '))\n",
    "#\n",
    "fatorial = i\n",
    "\n",
    "\n",
    "while i >= 1:\n",
    "     \n",
    "    i = i-1\n",
    "    if i !=0:\n",
    "        fatorial = fatorial * i\n",
    "\n",
    "print(f'A fatoração do numero digitado é {fatorial}')"
   ]
  },
  {
   "cell_type": "markdown",
   "metadata": {},
   "source": [
    "## Exercício 03 - \n",
    "Faça um programa que calcule a soma dos números de 1 a 100.\n",
    "(FOR)"
   ]
  },
  {
   "cell_type": "code",
   "execution_count": 119,
   "metadata": {},
   "outputs": [
    {
     "name": "stdout",
     "output_type": "stream",
     "text": [
      "A soma é: 5050\n"
     ]
    }
   ],
   "source": [
    "# Criar um alista de valores de 0 a 100\n",
    "num = range(1, 101)\n",
    "# Criar uma variavél acumuladora\n",
    "soma = 0\n",
    "\n",
    "for i in num:\n",
    "    soma = soma + i\n",
    "print(f'A soma é: {soma}')\n"
   ]
  },
  {
   "cell_type": "markdown",
   "metadata": {},
   "source": [
    "## Exercício 04 - \n",
    "Crie um programa que solicite ao usuário que digite uma senha e\n",
    "continue pedindo até que a senha digitada seja igual a \"12345\". Quando a senha\n",
    "for correta, exiba uma mensagem de boas-vindas. (WHILE)"
   ]
  },
  {
   "cell_type": "code",
   "execution_count": 125,
   "metadata": {},
   "outputs": [
    {
     "name": "stdout",
     "output_type": "stream",
     "text": [
      "Seja bem vindo\n"
     ]
    }
   ],
   "source": [
    "senha = input('Digite a senha: ')\n",
    "\n",
    "while senha != '1234':\n",
    "    senha = input('Digite a senha: ')\n",
    "\n",
    "print('Seja bem vindo')"
   ]
  }
 ],
 "metadata": {
  "kernelspec": {
   "display_name": "Python 3",
   "language": "python",
   "name": "python3"
  },
  "language_info": {
   "codemirror_mode": {
    "name": "ipython",
    "version": 3
   },
   "file_extension": ".py",
   "mimetype": "text/x-python",
   "name": "python",
   "nbconvert_exporter": "python",
   "pygments_lexer": "ipython3",
   "version": "3.11.0"
  },
  "orig_nbformat": 4
 },
 "nbformat": 4,
 "nbformat_minor": 2
}
