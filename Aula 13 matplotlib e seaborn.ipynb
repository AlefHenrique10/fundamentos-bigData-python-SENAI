{
 "cells": [
  {
   "cell_type": "markdown",
   "metadata": {},
   "source": [
    "### Exercício 05 – Construa um script em python, utilizando as bibliotecas Pandas \n",
    "e OS(Operating System) para concatenar os arquivos que estão na pasta filiais.\n",
    "\n",
    "Para isso para, faça os seguintes passos:\n",
    "\n",
    "a) Importe as bibliotecas Pandas e OS"
   ]
  },
  {
   "cell_type": "code",
   "execution_count": 2,
   "metadata": {},
   "outputs": [],
   "source": [
    "import os #Manipular os dados \n",
    "import pandas as pd # Gerencair arquivos no sistema operacional"
   ]
  },
  {
   "cell_type": "markdown",
   "metadata": {},
   "source": [
    "b) Declare uma variável chamada dir_path para armazenar o caminho\n",
    "dodiretório que contém os arquivos a serem combinados;"
   ]
  },
  {
   "cell_type": "code",
   "execution_count": 6,
   "metadata": {},
   "outputs": [],
   "source": [
    "# Criar variável para armazenar o caminho do diretório com os arquivos\n",
    "from genericpath import isfile\n",
    "\n",
    "\n",
    "dir_path = 'C:\\\\Users\\\\FIC\\\\Documents\\\\Henrique-Rodrigues\\\\003 - Arquivos\\\\filiais\\\\'\n",
    "\n",
    "# Criar lista vazia para armazenar os caminhos completos\n",
    "res = []\n",
    "\n",
    "for path in os.listdir(dir_path):\n",
    "    if os.path.isfile(dir_path + path):\n",
    "        res.append(dir_path + path)\n",
    "\n",
    "# Criar um DataFrame vazio\n",
    "file_combined = pd.DataFrame()\n",
    "\n",
    "# Estrutura para combinar os arquivos\n",
    "for file in res:\n",
    "    df1 = pd.read_excel(file)\n",
    "    file_combined = pd.concat([file_combined,df1])\n",
    "\n",
    "\n",
    "dir_final = ('C:\\\\Users\\\\FIC\\\\Documents\\\\Henrique-Rodrigues\\\\003 - Arquivos\\\\Nova pasta\\\\')\n",
    "fileName = 'ArquivoCombinado.xlsx'\n",
    "\n",
    "file_combined.to_excel(dir_final + fileName)\n"
   ]
  }
 ],
 "metadata": {
  "kernelspec": {
   "display_name": "Python 3",
   "language": "python",
   "name": "python3"
  },
  "language_info": {
   "codemirror_mode": {
    "name": "ipython",
    "version": 3
   },
   "file_extension": ".py",
   "mimetype": "text/x-python",
   "name": "python",
   "nbconvert_exporter": "python",
   "pygments_lexer": "ipython3",
   "version": "3.11.0"
  },
  "orig_nbformat": 4
 },
 "nbformat": 4,
 "nbformat_minor": 2
}
