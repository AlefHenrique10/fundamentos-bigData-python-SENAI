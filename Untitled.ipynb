{
 "cells": [
  {
   "cell_type": "markdown",
   "id": "952d4994",
   "metadata": {},
   "source": [
    "## Exercício 01 – \n",
    "Crie uma variável chamada \"idade\" e atribua um valor inteiro a ela.\n",
    "Verifique se a idade é maior ou igual a 18 e imprima \"Maior de idade\" ou \"Menor de\n",
    "idade\" de acordo com a condição."
   ]
  },
  {
   "cell_type": "code",
   "execution_count": 23,
   "id": "88dc3498",
   "metadata": {},
   "outputs": [
    {
     "name": "stdout",
     "output_type": "stream",
     "text": [
      "digite sua idade: 20\n",
      "Maior de idade\n"
     ]
    }
   ],
   "source": [
    "idade = 18\n",
    "\n",
    "idades = int(input(\"digite sua idade: \"))\n",
    "\n",
    "if idades >= idade:\n",
    "    print(\"Maior de idade\")\n",
    "    \n",
    "else: \n",
    "    print(\"Menor de idade\")\n"
   ]
  },
  {
   "cell_type": "markdown",
   "id": "e7be0b63",
   "metadata": {},
   "source": [
    "## Exercício 02 - \n",
    "Crie uma variável chamada \"número\" e atribua um valor inteiro a ela.\n",
    "Verifique se o número é positivo, negativo ou zero e imprima a mensagem\n",
    "correspondente."
   ]
  },
  {
   "cell_type": "code",
   "execution_count": 33,
   "id": "7e3aa13c",
   "metadata": {},
   "outputs": [
    {
     "name": "stdout",
     "output_type": "stream",
     "text": [
      "digite um numero: 0\n",
      "Zero\n"
     ]
    }
   ],
   "source": [
    "zero = 0\n",
    "\n",
    "\n",
    "numero = int(input(\"digite um numero: \"))\n",
    "\n",
    "if numero == zero:\n",
    "    print(\"Zero\")\n",
    "    \n",
    "elif numero < zero:\n",
    "    print(\"Negativo\")\n",
    "\n",
    "else:\n",
    "    print(\"Positivo\")\n",
    "    "
   ]
  },
  {
   "cell_type": "markdown",
   "id": "ac5bbeca",
   "metadata": {},
   "source": [
    "## Exercício 03 - \n",
    "Crie duas variáveis, \"nota1\" e \"nota2\", e atribua valores numéricos a elas.\n",
    "Verifique se a média das notas é maior ou igual a 7 e imprima \"Aprovado\" ou\n",
    "\"Reprovado\" de acordo com a condição."
   ]
  },
  {
   "cell_type": "code",
   "execution_count": 50,
   "id": "cddbb5de",
   "metadata": {},
   "outputs": [
    {
     "name": "stdout",
     "output_type": "stream",
     "text": [
      "Digite a nota da 1º Prova: 7.5\n",
      "Digite a nota da 2º Prova: 7.4\n",
      "Aprovado\n"
     ]
    }
   ],
   "source": [
    "nota1 = float(input(\"Digite a nota da 1º Prova: \"))\n",
    "nota2 = float(input(\"Digite a nota da 2º Prova: \"))\n",
    "\n",
    "aprovado = 7\n",
    "soma = nota1 + nota2 \n",
    "media = soma / 2\n",
    "\n",
    "if media >= aprovado:\n",
    "    print(\"Aprovado\")\n",
    "else:\n",
    "    print(\"Reprovado\")"
   ]
  },
  {
   "cell_type": "markdown",
   "id": "2d18098a",
   "metadata": {},
   "source": [
    "## Exercício 04 - \n",
    "Crie uma variável chamada \"idade\" e atribua um valor inteiro a ela.\n",
    "Verifique se a idade está dentro do intervalo de 18 a 30 (inclusive) e imprima a\n",
    "mensagem \"Idade válida\" ou \"Idade inválida\" de acordo com a condição."
   ]
  },
  {
   "cell_type": "code",
   "execution_count": 42,
   "id": "22d1880c",
   "metadata": {},
   "outputs": [
    {
     "name": "stdout",
     "output_type": "stream",
     "text": [
      "Digite sua idade: 0\n",
      "Idade inválida\n"
     ]
    }
   ],
   "source": [
    "idade = int(input(\"Digite sua idade: \"))\n",
    "\n",
    "idadeMa = 30\n",
    "idadeMi = 18\n",
    "\n",
    "if idade >= idadeMi and idade <= idadeMa:\n",
    "    print(\"Idade válida\")\n",
    "else:\n",
    "    print(\"Idade inválida\")"
   ]
  },
  {
   "cell_type": "markdown",
   "id": "08df8ec8",
   "metadata": {},
   "source": [
    "## Exercício 05 - \n",
    "Crie uma variável chamada \"numero\" e atribua um valor inteiro a ela.\n",
    "Verifique se o número é par ou ímpar e imprima a mensagem correspondente."
   ]
  },
  {
   "cell_type": "code",
   "execution_count": 49,
   "id": "a666bc81",
   "metadata": {},
   "outputs": [
    {
     "name": "stdout",
     "output_type": "stream",
     "text": [
      "Digite um numero: 7\n",
      "impar\n"
     ]
    }
   ],
   "source": [
    "numero = int(input(\"Digite um numero: \"))\n",
    "\n",
    "par = 0 \n",
    "impar = numero % 2\n",
    "\n",
    "\n",
    "if impar == 0:\n",
    "    print(\"par\")\n",
    "else:\n",
    "    print(\"impar\")\n"
   ]
  },
  {
   "cell_type": "markdown",
   "id": "b783f2b3",
   "metadata": {},
   "source": [
    "## Exercício 06 - \n",
    "Crie uma variável chamada \"horario\" e atribua um valor inteiro\n",
    "representando a hora do dia (em formato 24 horas). Verifique se o horário está dentro\n",
    "do período da manhã (das 6h às 12h), da tarde (das 12h às 18h) ou da noite (das 18h\n",
    "às 23h) e imprima a mensagem correspondente."
   ]
  },
  {
   "cell_type": "code",
   "execution_count": 65,
   "id": "994f3f8b",
   "metadata": {},
   "outputs": [
    {
     "name": "stdout",
     "output_type": "stream",
     "text": [
      " Digite um horario: 18.01\n",
      "18.01 h da noite\n"
     ]
    }
   ],
   "source": [
    "horario = float(input(\" Digite um horario: \"))\n",
    "\n",
    "manha = 11.59\n",
    "tarde = 18\n",
    "\n",
    "if horario <= manha:\n",
    "    print(horario, \"h da manhã\")\n",
    "elif horario > manha and horario <= tarde :\n",
    "    print(horario,\"h da tarde\")\n",
    "elif horario > 24:\n",
    "    print(\"Horario invalido\")\n",
    "else: \n",
    "    print(horario,\"h da noite\")"
   ]
  },
  {
   "cell_type": "markdown",
   "id": "ffa7dd5b",
   "metadata": {},
   "source": [
    "## Exercício 07 - \n",
    "Crie uma variável chamada \"peso\" e atribua um valor numérico a ela.\n",
    "Verifique se o peso está dentro do intervalo de 50 a 100 (inclusive) e imprima a\n",
    "mensagem \"Peso válido\" ou \"Peso inválido\" de acordo com a condição."
   ]
  },
  {
   "cell_type": "code",
   "execution_count": 71,
   "id": "4a9f0822",
   "metadata": {},
   "outputs": [
    {
     "name": "stdout",
     "output_type": "stream",
     "text": [
      "Digite um peso: 100\n",
      "Peso válido\n"
     ]
    }
   ],
   "source": [
    "peso = float(input(\"Digite um peso: \"))\n",
    "\n",
    "peso_Max = 100\n",
    "peso_Min = 50\n",
    "\n",
    "if peso <= peso_Max and peso >= peso_Min:\n",
    "    print(\"Peso válido\")\n",
    "else:\n",
    "    print(\"Peso inválido\")"
   ]
  },
  {
   "cell_type": "markdown",
   "id": "2c626afc",
   "metadata": {},
   "source": [
    "## Exercício 08 - \n",
    "Crie uma variável chamada \"numero\" e atribua um valor inteiro a ela.\n",
    "Verifique se o número é múltiplo de 3 e de 5 ao mesmo tempo e imprima a mensagem\n",
    "correspondente."
   ]
  },
  {
   "cell_type": "code",
   "execution_count": 82,
   "id": "a0e6a78a",
   "metadata": {},
   "outputs": [
    {
     "name": "stdout",
     "output_type": "stream",
     "text": [
      "Digite um numero inteiro: 25\n",
      "O numero digitado não é multiplo de 3\n",
      "O numero digitado é multiplo de 5\n"
     ]
    }
   ],
   "source": [
    "numero = int(input(\"Digite um numero inteiro: \"))\n",
    "\n",
    "num_m3 = numero%3\n",
    "num_m5 = numero%5\n",
    "\n",
    "if num_m3 == 0:\n",
    "    print(\"O numero digitado é multiplo de 3\")\n",
    "else:\n",
    "    print(\"O numero digitado não é multiplo de 3\")\n",
    "    \n",
    "if num_m5 == 0:\n",
    "    print(\"O numero digitado é multiplo de 5\")\n",
    "else:\n",
    "    print(\"O numero digitado não é multiplo de 5\")\n",
    "\n"
   ]
  },
  {
   "cell_type": "markdown",
   "id": "89f5bf1e",
   "metadata": {},
   "source": [
    "## Exercício 09 - \n",
    "Crie uma variável chamada \"ano\" e atribua um valor inteiro\n",
    "representando um ano. Verifique se o ano é bissexto (divisível por 4, mas não por 100,\n",
    "exceto se for divisível por 400) e imprima a mensagem correspondente."
   ]
  },
  {
   "cell_type": "code",
   "execution_count": null,
   "id": "4cbd24bb",
   "metadata": {},
   "outputs": [],
   "source": []
  },
  {
   "cell_type": "markdown",
   "id": "749ec817",
   "metadata": {},
   "source": [
    "## Exercício 10 - \n",
    "Crie uma variável chamada \"salario\" e atribua um valor numérico a ela.\n",
    "Verifique se o salário é maior do que 1000 e menor do que 2000 ao mesmo tempo e\n",
    "imprima a mensagem correspondente."
   ]
  },
  {
   "cell_type": "code",
   "execution_count": 90,
   "id": "2c2010ef",
   "metadata": {},
   "outputs": [
    {
     "name": "stdout",
     "output_type": "stream",
     "text": [
      "Digite o salario: 1002\n",
      "O salario esta entre 1000 e 2000\n"
     ]
    }
   ],
   "source": [
    "salario = float(input(\"Digite o salario: \"))\n",
    "\n",
    "sal_Max = 2000\n",
    "sal_Min = 1000\n",
    "\n",
    "if salario >= sal_Min and salario <= sal_Max:\n",
    "    print(\"O salario esta entre\",sal_Min, \"e\", sal_Max)\n",
    "else:\n",
    "    print(\"Não está dentro dos Valores permitidos\")"
   ]
  },
  {
   "cell_type": "markdown",
   "id": "34c04075",
   "metadata": {},
   "source": [
    "## Exercício 11 - \n",
    "Faça um Programa que peça dois números e imprima o maior deles."
   ]
  },
  {
   "cell_type": "code",
   "execution_count": 118,
   "id": "745263cc",
   "metadata": {},
   "outputs": [
    {
     "name": "stdout",
     "output_type": "stream",
     "text": [
      "Digite um numero: 6\n",
      "Digite outro numero: 5\n",
      "o numero maior é 6.0 e o menor é 5.0\n"
     ]
    }
   ],
   "source": [
    "num_1 = float(input(\"Digite um numero: \"))\n",
    "num_2 = float(input(\"Digite outro numero: \"))\n",
    "\n",
    "if num_1 > num_2:\n",
    "    print(f'o numero maior é {num_1} e o menor é {num_2}')\n",
    "else:\n",
    "    print(f'o numero maior é {num_2} e o menor é {num_1}')"
   ]
  },
  {
   "cell_type": "markdown",
   "id": "dadd3c82",
   "metadata": {},
   "source": [
    "## Exercício 12 - \n",
    "Faça um Programa que peça um valor e mostre na tela se o valor é\n",
    "positivo ou negativo."
   ]
  },
  {
   "cell_type": "code",
   "execution_count": 97,
   "id": "d946acff",
   "metadata": {},
   "outputs": [
    {
     "name": "stdout",
     "output_type": "stream",
     "text": [
      "Digite um numero: 1\n",
      "Positivo\n"
     ]
    }
   ],
   "source": [
    "numero = int(input(\"Digite um numero: \"))\n",
    "\n",
    "if numero > 0:\n",
    "    print(\"Positivo\")\n",
    "elif numero == 0:\n",
    "    print(\"Neutro\")\n",
    "else:\n",
    "    print(\"Negativo\")"
   ]
  },
  {
   "cell_type": "markdown",
   "id": "de06869d",
   "metadata": {},
   "source": [
    "## Exercício 13 - \n",
    "Faça um Programa que verifique se uma letra digitada é \"F\" ou \"M\".\n",
    "Conforme a letra escrever: F - Feminino, M - Masculino, Sexo Inválido."
   ]
  },
  {
   "cell_type": "code",
   "execution_count": 109,
   "id": "db219b57",
   "metadata": {},
   "outputs": [
    {
     "name": "stdout",
     "output_type": "stream",
     "text": [
      "Digite F ou M para Feminino ou Masculino: a\n",
      "Genero inválido\n"
     ]
    }
   ],
   "source": [
    "genero = input(\"Digite F ou M para Feminino ou Masculino: \")\n",
    "\n",
    "feminino = \"f\"\n",
    "masculino = \"m\"\n",
    "\n",
    "if genero == \"f\":\n",
    "    print(\"Feminino\")\n",
    "elif genero == \"m\":\n",
    "    print(\"Masculino\")\n",
    "else:\n",
    "    print(\"Genero inválido\")\n"
   ]
  },
  {
   "cell_type": "markdown",
   "id": "33219388",
   "metadata": {},
   "source": [
    "## Exercício 14 - \n",
    "Faça um Programa que verifique se uma letra digitada é vogal ou\n",
    "consoante."
   ]
  },
  {
   "cell_type": "code",
   "execution_count": 119,
   "id": "deb76d53",
   "metadata": {},
   "outputs": [
    {
     "name": "stdout",
     "output_type": "stream",
     "text": [
      "Digite uma letra: j\n",
      "Consoante\n"
     ]
    }
   ],
   "source": [
    "letra = input(\"Digite uma letra: \")\n",
    "\n",
    "a = \"a\"\n",
    "e = \"e\"\n",
    "i = \"i\"\n",
    "o = \"o\"\n",
    "u = \"u\"\n",
    "\n",
    "if letra == a or letra == e or letra == i or letra == o or letra == u:\n",
    "    print(\"Vogal\")\n",
    "else:\n",
    "    print(\"Consoante\")"
   ]
  },
  {
   "cell_type": "markdown",
   "id": "96953275",
   "metadata": {},
   "source": [
    "## Exercício 16 - \n",
    "Faça um Programa que leia três números e mostre o maior deles."
   ]
  },
  {
   "cell_type": "code",
   "execution_count": 122,
   "id": "21750a49",
   "metadata": {},
   "outputs": [
    {
     "name": "stdout",
     "output_type": "stream",
     "text": [
      "Digite 1º numero: 4\n",
      "Digite 2º numero: 6\n",
      "Digite 3º numero: 7\n",
      "7\n"
     ]
    }
   ],
   "source": [
    "num_1 = int(input(\"Digite 1º numero: \"))\n",
    "num_2 = int(input(\"Digite 2º numero: \"))\n",
    "num_3 = int(input(\"Digite 3º numero: \"))\n",
    "\n",
    "if num_1 > num_2 and num_1 > num_3:\n",
    "    print(num_1)\n",
    "elif num_2 > num_1 and num_2 > num_3:\n",
    "    print(num_2)\n",
    "else:\n",
    "    print(num_3)"
   ]
  },
  {
   "cell_type": "markdown",
   "id": "e39b3491",
   "metadata": {},
   "source": [
    "## Exercício 17 - \n",
    "Faça um Programa que leia três números e mostre o maior e o menor\n",
    "deles."
   ]
  },
  {
   "cell_type": "code",
   "execution_count": 126,
   "id": "fd3c3b69",
   "metadata": {},
   "outputs": [
    {
     "name": "stdout",
     "output_type": "stream",
     "text": [
      "Digite 1º numero: 4\n",
      "Digite 2º numero: 8\n",
      "Digite 3º numero: 10\n",
      "10 é o maior numero\n",
      "4\n"
     ]
    }
   ],
   "source": [
    "num_1 = int(input(\"Digite 1º numero: \"))\n",
    "num_2 = int(input(\"Digite 2º numero: \"))\n",
    "num_3 = int(input(\"Digite 3º numero: \"))\n",
    "\n",
    "if num_1 > num_2 and num_1 > num_3:\n",
    "    print(num_1)\n",
    "elif num_2 > num_1 and num_2 > num_3:\n",
    "    print(num_2)\n",
    "else:\n",
    "    print(num_3, \"é o maior numero\")\n",
    "if num_1 < num_2 and num_1 < num_3:\n",
    "    print(num_1)\n",
    "elif num_2 < num_1 and num_2 < num_3:\n",
    "    print(num_2)\n",
    "else:\n",
    "    print(num_3,\"é o menor numero\")"
   ]
  },
  {
   "cell_type": "code",
   "execution_count": null,
   "id": "c3434fc9",
   "metadata": {},
   "outputs": [],
   "source": []
  }
 ],
 "metadata": {
  "kernelspec": {
   "display_name": "Python 3 (ipykernel)",
   "language": "python",
   "name": "python3"
  },
  "language_info": {
   "codemirror_mode": {
    "name": "ipython",
    "version": 3
   },
   "file_extension": ".py",
   "mimetype": "text/x-python",
   "name": "python",
   "nbconvert_exporter": "python",
   "pygments_lexer": "ipython3",
   "version": "3.10.9"
  }
 },
 "nbformat": 4,
 "nbformat_minor": 5
}
