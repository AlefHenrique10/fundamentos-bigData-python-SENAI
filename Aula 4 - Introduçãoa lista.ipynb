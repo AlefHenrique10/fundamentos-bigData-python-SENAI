{
 "cells": [
  {
   "cell_type": "markdown",
   "metadata": {},
   "source": [
    "Trabalhando com listas"
   ]
  },
  {
   "cell_type": "code",
   "execution_count": 5,
   "metadata": {},
   "outputs": [],
   "source": [
    "#Criando uma lista\n",
    "\n",
    "alunos = ['amanda,','Ana', 'Aurineide', 'Perclides']\n",
    "nota = [10, 20, 30, 40]"
   ]
  },
  {
   "cell_type": "code",
   "execution_count": 4,
   "metadata": {},
   "outputs": [
    {
     "data": {
      "text/plain": [
       "'Aurineide'"
      ]
     },
     "execution_count": 4,
     "metadata": {},
     "output_type": "execute_result"
    }
   ],
   "source": [
    "#Retornar os elementos das listas\n",
    "\n",
    "alunos[2]"
   ]
  },
  {
   "cell_type": "code",
   "execution_count": 8,
   "metadata": {},
   "outputs": [
    {
     "name": "stdout",
     "output_type": "stream",
     "text": [
      "este time está na 3º posição:  Santos\n",
      "este time está na 4º posição:  Coritiba\n",
      "este time está na 1º posição:  Palmeiras\n"
     ]
    }
   ],
   "source": [
    "times = ['Palmeiras', 'São Paulo', 'Santos', 'Coritiba']\n",
    "\n",
    "#3º posição\n",
    "print('este time está na 3º posição: ', times[2] )\n",
    "\n",
    "#4º posição\n",
    "\n",
    "print('este time está na 4º posição: ', times[3] )\n",
    "\n",
    "#1º posição\n",
    "print('este time está na 1º posição: ', times[0] )"
   ]
  },
  {
   "cell_type": "markdown",
   "metadata": {},
   "source": [
    "Crie uma lista com duas listas de 3 times de futebol, cada uma de uma divisão diferente"
   ]
  },
  {
   "cell_type": "code",
   "execution_count": 20,
   "metadata": {},
   "outputs": [
    {
     "name": "stdout",
     "output_type": "stream",
     "text": [
      "Os elementos da lista são:  [['Palmeiras', 'Santos', 'São Paulo'], ['Coritiba', 'Agua Santa', 'Juventude']]\n",
      "Primeira lista:  ['Palmeiras', 'Santos', 'São Paulo']\n",
      "Segunda lista:  ['Coritiba', 'Agua Santa', 'Juventude']\n",
      "Os elementos da lista são:  São Paulo\n"
     ]
    }
   ],
   "source": [
    "campeonato = [['Palmeiras', 'Santos', 'São Paulo'], ['Coritiba', 'Agua Santa', 'Juventude']]\n",
    "\n",
    "\n",
    "#Retornar todos os elementos da lista\n",
    "print('Os elementos da lista são: ', campeonato)\n",
    "\n",
    "#Retornatar a primeira lista\n",
    "print('Primeira lista: ', campeonato[0])\n",
    "\n",
    "#Retornar a segunda lista\n",
    "print('Segunda lista: ',campeonato[1])\n",
    "\n",
    "#Retornar o terceiro elemento da primeira lista\n",
    "print('Os elementos da lista são: ', campeonato[0][2])"
   ]
  },
  {
   "cell_type": "code",
   "execution_count": null,
   "metadata": {},
   "outputs": [],
   "source": []
  }
 ],
 "metadata": {
  "kernelspec": {
   "display_name": "Python 3",
   "language": "python",
   "name": "python3"
  },
  "language_info": {
   "codemirror_mode": {
    "name": "ipython",
    "version": 3
   },
   "file_extension": ".py",
   "mimetype": "text/x-python",
   "name": "python",
   "nbconvert_exporter": "python",
   "pygments_lexer": "ipython3",
   "version": "3.11.0"
  },
  "orig_nbformat": 4
 },
 "nbformat": 4,
 "nbformat_minor": 2
}
