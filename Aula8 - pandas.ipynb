{
 "cells": [
  {
   "cell_type": "markdown",
   "metadata": {},
   "source": [
    "## Exercício 03 – Manipulando dados com Pandas\n",
    "\n",
    "a) Crie um programa em pandas para ler o arquivo em Excel vendas.xlsx e\n",
    "\n",
    "b) coloque em um dataframe.\n"
   ]
  },
  {
   "cell_type": "code",
   "execution_count": 2,
   "metadata": {},
   "outputs": [],
   "source": [
    "from lib2to3.pgen2.pgen import DFAState\n",
    "import pandas as pd\n",
    "\n",
    "caminho = 'C:\\\\Users\\\\FIC\\Documents\\\\Henrique-Rodrigues\\\\003 - Arquivos\\\\'\n",
    "arquivo = 'Vendas.xlsx'\n",
    "\n",
    "df = pd.read_excel(caminho + arquivo, sheet_name= 'Planilha1')"
   ]
  },
  {
   "cell_type": "markdown",
   "metadata": {},
   "source": [
    "c) Visualize o cabeçalho dos dados;"
   ]
  },
  {
   "cell_type": "code",
   "execution_count": 7,
   "metadata": {},
   "outputs": [
    {
     "data": {
      "text/html": [
       "<div>\n",
       "<style scoped>\n",
       "    .dataframe tbody tr th:only-of-type {\n",
       "        vertical-align: middle;\n",
       "    }\n",
       "\n",
       "    .dataframe tbody tr th {\n",
       "        vertical-align: top;\n",
       "    }\n",
       "\n",
       "    .dataframe thead th {\n",
       "        text-align: right;\n",
       "    }\n",
       "</style>\n",
       "<table border=\"1\" class=\"dataframe\">\n",
       "  <thead>\n",
       "    <tr style=\"text-align: right;\">\n",
       "      <th></th>\n",
       "      <th>Coluna 1</th>\n",
       "      <th>Coluna 2</th>\n",
       "      <th>Coluna 3</th>\n",
       "      <th>Coluna 4</th>\n",
       "      <th>Coluna 5</th>\n",
       "      <th>Coluna 6</th>\n",
       "    </tr>\n",
       "  </thead>\n",
       "  <tbody>\n",
       "    <tr>\n",
       "      <th>0</th>\n",
       "      <td>2014-01-01</td>\n",
       "      <td>Bernardo de Sousa</td>\n",
       "      <td>Supervisor de Vendas Pl</td>\n",
       "      <td>ACME</td>\n",
       "      <td>AL</td>\n",
       "      <td>3276.20</td>\n",
       "    </tr>\n",
       "    <tr>\n",
       "      <th>1</th>\n",
       "      <td>2014-01-01</td>\n",
       "      <td>Bernardo de Sousa</td>\n",
       "      <td>Supervisor de Vendas Pl</td>\n",
       "      <td>ACME</td>\n",
       "      <td>AP</td>\n",
       "      <td>3005.86</td>\n",
       "    </tr>\n",
       "    <tr>\n",
       "      <th>2</th>\n",
       "      <td>2014-01-01</td>\n",
       "      <td>Bernardo de Sousa</td>\n",
       "      <td>Supervisor de Vendas Pl</td>\n",
       "      <td>ACME</td>\n",
       "      <td>MA</td>\n",
       "      <td>8568.54</td>\n",
       "    </tr>\n",
       "    <tr>\n",
       "      <th>3</th>\n",
       "      <td>2014-01-01</td>\n",
       "      <td>Bernardo de Sousa</td>\n",
       "      <td>Supervisor de Vendas Pl</td>\n",
       "      <td>ACME</td>\n",
       "      <td>MG</td>\n",
       "      <td>1344.27</td>\n",
       "    </tr>\n",
       "    <tr>\n",
       "      <th>4</th>\n",
       "      <td>2014-01-01</td>\n",
       "      <td>Bernardo de Sousa</td>\n",
       "      <td>Supervisor de Vendas Pl</td>\n",
       "      <td>ACME</td>\n",
       "      <td>MS</td>\n",
       "      <td>7585.04</td>\n",
       "    </tr>\n",
       "  </tbody>\n",
       "</table>\n",
       "</div>"
      ],
      "text/plain": [
       "    Coluna 1           Coluna 2                 Coluna 3 Coluna 4 Coluna 5  \\\n",
       "0 2014-01-01  Bernardo de Sousa  Supervisor de Vendas Pl     ACME       AL   \n",
       "1 2014-01-01  Bernardo de Sousa  Supervisor de Vendas Pl     ACME       AP   \n",
       "2 2014-01-01  Bernardo de Sousa  Supervisor de Vendas Pl     ACME       MA   \n",
       "3 2014-01-01  Bernardo de Sousa  Supervisor de Vendas Pl     ACME       MG   \n",
       "4 2014-01-01  Bernardo de Sousa  Supervisor de Vendas Pl     ACME       MS   \n",
       "\n",
       "   Coluna 6  \n",
       "0   3276.20  \n",
       "1   3005.86  \n",
       "2   8568.54  \n",
       "3   1344.27  \n",
       "4   7585.04  "
      ]
     },
     "execution_count": 7,
     "metadata": {},
     "output_type": "execute_result"
    }
   ],
   "source": [
    "df.head()"
   ]
  },
  {
   "cell_type": "markdown",
   "metadata": {},
   "source": [
    "d) Visualize as últimas linhas;"
   ]
  },
  {
   "cell_type": "code",
   "execution_count": 12,
   "metadata": {},
   "outputs": [
    {
     "data": {
      "text/html": [
       "<div>\n",
       "<style scoped>\n",
       "    .dataframe tbody tr th:only-of-type {\n",
       "        vertical-align: middle;\n",
       "    }\n",
       "\n",
       "    .dataframe tbody tr th {\n",
       "        vertical-align: top;\n",
       "    }\n",
       "\n",
       "    .dataframe thead th {\n",
       "        text-align: right;\n",
       "    }\n",
       "</style>\n",
       "<table border=\"1\" class=\"dataframe\">\n",
       "  <thead>\n",
       "    <tr style=\"text-align: right;\">\n",
       "      <th></th>\n",
       "      <th>Data</th>\n",
       "      <th>Vendedor</th>\n",
       "      <th>Cargo</th>\n",
       "      <th>Cliente</th>\n",
       "      <th>UF</th>\n",
       "      <th>Vendas</th>\n",
       "    </tr>\n",
       "  </thead>\n",
       "  <tbody>\n",
       "    <tr>\n",
       "      <th>130461</th>\n",
       "      <td>2016-12-31</td>\n",
       "      <td>Liz Azevedo Santos</td>\n",
       "      <td>Vendedor Pl.</td>\n",
       "      <td>Planet Express</td>\n",
       "      <td>PI</td>\n",
       "      <td>1829.39</td>\n",
       "    </tr>\n",
       "    <tr>\n",
       "      <th>130462</th>\n",
       "      <td>2016-12-31</td>\n",
       "      <td>Liz Azevedo Santos</td>\n",
       "      <td>Vendedor Pl.</td>\n",
       "      <td>Planet Express</td>\n",
       "      <td>PR</td>\n",
       "      <td>2378.48</td>\n",
       "    </tr>\n",
       "    <tr>\n",
       "      <th>130463</th>\n",
       "      <td>2016-12-31</td>\n",
       "      <td>Liz Azevedo Santos</td>\n",
       "      <td>Vendedor Pl.</td>\n",
       "      <td>Planet Express</td>\n",
       "      <td>RO</td>\n",
       "      <td>4488.47</td>\n",
       "    </tr>\n",
       "    <tr>\n",
       "      <th>130464</th>\n",
       "      <td>2016-12-31</td>\n",
       "      <td>Liz Azevedo Santos</td>\n",
       "      <td>Vendedor Pl.</td>\n",
       "      <td>Planet Express</td>\n",
       "      <td>RR</td>\n",
       "      <td>1543.66</td>\n",
       "    </tr>\n",
       "    <tr>\n",
       "      <th>130465</th>\n",
       "      <td>2016-12-31</td>\n",
       "      <td>Liz Azevedo Santos</td>\n",
       "      <td>Vendedor Pl.</td>\n",
       "      <td>Planet Express</td>\n",
       "      <td>SC</td>\n",
       "      <td>9820.71</td>\n",
       "    </tr>\n",
       "  </tbody>\n",
       "</table>\n",
       "</div>"
      ],
      "text/plain": [
       "             Data            Vendedor         Cargo         Cliente  UF  \\\n",
       "130461 2016-12-31  Liz Azevedo Santos  Vendedor Pl.  Planet Express  PI   \n",
       "130462 2016-12-31  Liz Azevedo Santos  Vendedor Pl.  Planet Express  PR   \n",
       "130463 2016-12-31  Liz Azevedo Santos  Vendedor Pl.  Planet Express  RO   \n",
       "130464 2016-12-31  Liz Azevedo Santos  Vendedor Pl.  Planet Express  RR   \n",
       "130465 2016-12-31  Liz Azevedo Santos  Vendedor Pl.  Planet Express  SC   \n",
       "\n",
       "         Vendas  \n",
       "130461  1829.39  \n",
       "130462  2378.48  \n",
       "130463  4488.47  \n",
       "130464  1543.66  \n",
       "130465  9820.71  "
      ]
     },
     "execution_count": 12,
     "metadata": {},
     "output_type": "execute_result"
    }
   ],
   "source": [
    "df.tail()"
   ]
  },
  {
   "cell_type": "markdown",
   "metadata": {},
   "source": [
    "e) Escreva um programa para renomear o cabeçalho da tabela com os seguintes nomes:\n"
   ]
  },
  {
   "cell_type": "code",
   "execution_count": 8,
   "metadata": {},
   "outputs": [
    {
     "data": {
      "text/html": [
       "<div>\n",
       "<style scoped>\n",
       "    .dataframe tbody tr th:only-of-type {\n",
       "        vertical-align: middle;\n",
       "    }\n",
       "\n",
       "    .dataframe tbody tr th {\n",
       "        vertical-align: top;\n",
       "    }\n",
       "\n",
       "    .dataframe thead th {\n",
       "        text-align: right;\n",
       "    }\n",
       "</style>\n",
       "<table border=\"1\" class=\"dataframe\">\n",
       "  <thead>\n",
       "    <tr style=\"text-align: right;\">\n",
       "      <th></th>\n",
       "      <th>Data</th>\n",
       "      <th>Vendedor</th>\n",
       "      <th>Cargo</th>\n",
       "      <th>Cliente</th>\n",
       "      <th>UF</th>\n",
       "      <th>Vendas</th>\n",
       "    </tr>\n",
       "  </thead>\n",
       "  <tbody>\n",
       "    <tr>\n",
       "      <th>0</th>\n",
       "      <td>2014-01-01</td>\n",
       "      <td>Bernardo de Sousa</td>\n",
       "      <td>Supervisor de Vendas Pl</td>\n",
       "      <td>ACME</td>\n",
       "      <td>AL</td>\n",
       "      <td>3276.20</td>\n",
       "    </tr>\n",
       "    <tr>\n",
       "      <th>1</th>\n",
       "      <td>2014-01-01</td>\n",
       "      <td>Bernardo de Sousa</td>\n",
       "      <td>Supervisor de Vendas Pl</td>\n",
       "      <td>ACME</td>\n",
       "      <td>AP</td>\n",
       "      <td>3005.86</td>\n",
       "    </tr>\n",
       "    <tr>\n",
       "      <th>2</th>\n",
       "      <td>2014-01-01</td>\n",
       "      <td>Bernardo de Sousa</td>\n",
       "      <td>Supervisor de Vendas Pl</td>\n",
       "      <td>ACME</td>\n",
       "      <td>MA</td>\n",
       "      <td>8568.54</td>\n",
       "    </tr>\n",
       "    <tr>\n",
       "      <th>3</th>\n",
       "      <td>2014-01-01</td>\n",
       "      <td>Bernardo de Sousa</td>\n",
       "      <td>Supervisor de Vendas Pl</td>\n",
       "      <td>ACME</td>\n",
       "      <td>MG</td>\n",
       "      <td>1344.27</td>\n",
       "    </tr>\n",
       "    <tr>\n",
       "      <th>4</th>\n",
       "      <td>2014-01-01</td>\n",
       "      <td>Bernardo de Sousa</td>\n",
       "      <td>Supervisor de Vendas Pl</td>\n",
       "      <td>ACME</td>\n",
       "      <td>MS</td>\n",
       "      <td>7585.04</td>\n",
       "    </tr>\n",
       "  </tbody>\n",
       "</table>\n",
       "</div>"
      ],
      "text/plain": [
       "        Data           Vendedor                    Cargo Cliente  UF   Vendas\n",
       "0 2014-01-01  Bernardo de Sousa  Supervisor de Vendas Pl    ACME  AL  3276.20\n",
       "1 2014-01-01  Bernardo de Sousa  Supervisor de Vendas Pl    ACME  AP  3005.86\n",
       "2 2014-01-01  Bernardo de Sousa  Supervisor de Vendas Pl    ACME  MA  8568.54\n",
       "3 2014-01-01  Bernardo de Sousa  Supervisor de Vendas Pl    ACME  MG  1344.27\n",
       "4 2014-01-01  Bernardo de Sousa  Supervisor de Vendas Pl    ACME  MS  7585.04"
      ]
     },
     "execution_count": 8,
     "metadata": {},
     "output_type": "execute_result"
    }
   ],
   "source": [
    "df.columns= ['Data', 'Vendedor','Cargo','Cliente',\n",
    "             'UF', 'Vendas']\n",
    "df.head()"
   ]
  },
  {
   "cell_type": "markdown",
   "metadata": {},
   "source": [
    "g) Quais são os tipos de dados que temos no dataframe?\n",
    "\n",
    "h) Há valores faltantes ou nulos?"
   ]
  },
  {
   "cell_type": "code",
   "execution_count": 9,
   "metadata": {},
   "outputs": [
    {
     "name": "stdout",
     "output_type": "stream",
     "text": [
      "<class 'pandas.core.frame.DataFrame'>\n",
      "RangeIndex: 130466 entries, 0 to 130465\n",
      "Data columns (total 6 columns):\n",
      " #   Column    Non-Null Count   Dtype         \n",
      "---  ------    --------------   -----         \n",
      " 0   Data      130466 non-null  datetime64[ns]\n",
      " 1   Vendedor  130466 non-null  object        \n",
      " 2   Cargo     130466 non-null  object        \n",
      " 3   Cliente   130466 non-null  object        \n",
      " 4   UF        130466 non-null  object        \n",
      " 5   Vendas    130466 non-null  float64       \n",
      "dtypes: datetime64[ns](1), float64(1), object(4)\n",
      "memory usage: 6.0+ MB\n"
     ]
    }
   ],
   "source": [
    "df.info()"
   ]
  },
  {
   "cell_type": "markdown",
   "metadata": {},
   "source": [
    "h) Há valores faltantes ou nulos?"
   ]
  },
  {
   "cell_type": "code",
   "execution_count": 26,
   "metadata": {},
   "outputs": [
    {
     "data": {
      "text/plain": [
       "0"
      ]
     },
     "execution_count": 26,
     "metadata": {},
     "output_type": "execute_result"
    }
   ],
   "source": [
    "\n",
    "df['Vendas'].isnull().sum()"
   ]
  },
  {
   "cell_type": "markdown",
   "metadata": {},
   "source": [
    "i) Calcule a soma, média, máximo, mínimo e contagem da coluna Preço."
   ]
  },
  {
   "cell_type": "code",
   "execution_count": 11,
   "metadata": {},
   "outputs": [
    {
     "name": "stdout",
     "output_type": "stream",
     "text": [
      "A soma é :  718501609.25\n",
      "A Média é :  5507.194282418408\n",
      "O valor máximo é :  10000.0\n",
      "O valor mínimo é :  1000.01\n",
      "A contagem todal da coluna  130466\n"
     ]
    }
   ],
   "source": [
    "print('A soma é : ', df['Vendas'].sum())\n",
    "\n",
    "print('A Média é : ', df['Vendas'].mean())\n",
    "\n",
    "print('O valor máximo é : ', df['Vendas'].max())\n",
    "\n",
    "print('O valor mínimo é : ', df['Vendas'].min())\n",
    "\n",
    "print('A contagem todal da coluna ', df['Vendas'].count())"
   ]
  },
  {
   "cell_type": "markdown",
   "metadata": {},
   "source": [
    "j) Crie um programa para criar um dataframe para mostrar as vendas por cargo, e\n",
    "salvar um arquivo em csv para com o nome de cada cargo:"
   ]
  },
  {
   "cell_type": "code",
   "execution_count": 18,
   "metadata": {},
   "outputs": [],
   "source": [
    "# Filtrar DataFrame - Supervisor\n",
    "df_Supervisor = df[df['Cargo']== 'Supervisor de Vendas Pl']\n",
    "\n",
    "# Nome do arquivo\n",
    "pasta_destino = 'C:\\\\Users\\\\FIC\\\\Documents\\\\Henrique-Rodrigues\\\\003 - Arquivos\\\\Cargos - vendas\\\\'\n",
    "nome_arquivo = 'Supervisor.csv'\n",
    "\n",
    "# Salva/ Gerar um arquivo em csv\n",
    "df_Supervisor.to_csv( pasta_destino + nome_arquivo)"
   ]
  },
  {
   "cell_type": "code",
   "execution_count": 19,
   "metadata": {},
   "outputs": [],
   "source": [
    "# Filtrar DataFrame \n",
    "df_Gerente_Regional = df[df['Cargo']== 'Gerente Regional Jr.']\n",
    "\n",
    "# Nome do arquivo\n",
    "pasta_destino = 'C:\\\\Users\\\\FIC\\\\Documents\\\\Henrique-Rodrigues\\\\003 - Arquivos\\\\Cargos - vendas\\\\'\n",
    "nome_arquivo = 'Gerente_Reg.csv'\n",
    "\n",
    "\n",
    "# Salva/ Gerar um arquivo em csvs\n",
    "df_Gerente_Regional.to_csv(pasta_destino + nome_arquivo)"
   ]
  },
  {
   "cell_type": "code",
   "execution_count": 20,
   "metadata": {},
   "outputs": [],
   "source": [
    "# Filtrar DataFrame -\n",
    "df_Supervisor_Sr = df[df['Cargo']== 'Supervisor de Vendas Sr']\n",
    "\n",
    "# Nome do arquivo\n",
    "pasta_destino = 'C:\\\\Users\\\\FIC\\\\Documents\\\\Henrique-Rodrigues\\\\003 - Arquivos\\\\Cargos - vendas\\\\'\n",
    "nome_arquivo = 'Supervisor_Sr.csv'\n",
    "\n",
    "# Salva/ Gerar um arquivo em csv\n",
    "df_Supervisor_Sr.to_csv(pasta_destino + nome_arquivo)"
   ]
  },
  {
   "cell_type": "code",
   "execution_count": 37,
   "metadata": {},
   "outputs": [],
   "source": [
    "# Filtrar DataFrame \n",
    "df_Coordenador_Pl = df[df['Cargo']== 'Coordenador de Vendas Pl.']\n",
    "\n",
    "# Nome do arquivo\n",
    "pasta_destino = 'C:\\\\Users\\\\FIC\\\\Documents\\\\Henrique-Rodrigues\\\\003 - Arquivos\\\\Cargos - vendas\\\\'\n",
    "nome_arquivo = 'Coordenador_Pl.csv'\n",
    "\n",
    "# Salva/ Gerar um arquivo em cvs\n",
    "df_Coordenador_Pl.to_csv(pasta_destino + nome_arquivo)\n"
   ]
  },
  {
   "cell_type": "code",
   "execution_count": 30,
   "metadata": {},
   "outputs": [],
   "source": [
    "# Filtrar DataFrame \n",
    "df_Vendedor_Jr = df[df['Cargo']== 'Vendedor Jr.']\n",
    "\n",
    "# Nome do arquivo\n",
    "pasta_destino = 'C:\\\\Users\\\\FIC\\\\Documents\\\\Henrique-Rodrigues\\\\003 - Arquivos\\\\Cargos - vendas\\\\'\n",
    "nome_arquivo = 'Vendedor_Jr.csv'\n",
    "\n",
    "# Salva/ Gerar um arquivo em cvs\n",
    "df_Vendedor_Jr.to_csv(pasta_destino + nome_arquivo)"
   ]
  },
  {
   "cell_type": "code",
   "execution_count": 31,
   "metadata": {},
   "outputs": [],
   "source": [
    "# Filtrar DataFrame \n",
    "df_Vendedor_Sr = df[df['Cargo']== 'Vendedor Sr.']\n",
    "\n",
    "# Nome do arquivo\n",
    "pasta_destino = 'C:\\\\Users\\\\FIC\\\\Documents\\\\Henrique-Rodrigues\\\\003 - Arquivos\\\\Cargos - vendas\\\\'\n",
    "nome_arquivo = 'Vendedor_Sr.csv'\n",
    "\n",
    "# Salva/ Gerar um arquivo em cvs\n",
    "df_Vendedor_Sr.to_csv(pasta_destino + nome_arquivo)"
   ]
  },
  {
   "cell_type": "code",
   "execution_count": 32,
   "metadata": {},
   "outputs": [],
   "source": [
    "# Filtrar DataFrame \n",
    "df_Vendedor_Pl = df[df['Cargo']== 'Vendedor Pl.']\n",
    "\n",
    "# Nome do arquivo\n",
    "pasta_destino = 'C:\\\\Users\\\\FIC\\\\Documents\\\\Henrique-Rodrigues\\\\003 - Arquivos\\\\Cargos - vendas\\\\'\n",
    "nome_arquivo = 'Vendedor_Pl.csv'\n",
    "\n",
    "# Salva/ Gerar um arquivo em cvs\n",
    "df_Vendedor_Pl.to_csv(pasta_destino + nome_arquivo)"
   ]
  },
  {
   "cell_type": "code",
   "execution_count": 33,
   "metadata": {},
   "outputs": [],
   "source": [
    "# Filtrar DataFrame \n",
    "df_Gerente_Pl = df[df['Cargo']== 'Gerente Regional Pl.']\n",
    "\n",
    "# Nome do arquivo\n",
    "pasta_destino = 'C:\\\\Users\\\\FIC\\\\Documents\\\\Henrique-Rodrigues\\\\003 - Arquivos\\\\Cargos - vendas\\\\'\n",
    "nome_arquivo = 'Gerente_Pl.csv'\n",
    "\n",
    "# Salva/ Gerar um arquivo em cvs\n",
    "df_Gerente_Pl.to_csv(pasta_destino + nome_arquivo)"
   ]
  },
  {
   "cell_type": "code",
   "execution_count": 36,
   "metadata": {},
   "outputs": [],
   "source": [
    "# Filtrar DataFrame \n",
    "df_Cordenador_Sr = df[df['Cargo']== 'Coordenador de Vendas Sr.']\n",
    "\n",
    "# Nome do arquivo\n",
    "pasta_destino = 'C:\\\\Users\\\\FIC\\\\Documents\\\\Henrique-Rodrigues\\\\003 - Arquivos\\\\Cargos - vendas\\\\'\n",
    "nome_arquivo = 'Coordenador_Sr.csv'\n",
    "\n",
    "# Salva/ Gerar um arquivo em cvs\n",
    "df_Cordenador_Sr.to_csv(pasta_destino + nome_arquivo)"
   ]
  },
  {
   "cell_type": "code",
   "execution_count": 35,
   "metadata": {},
   "outputs": [],
   "source": [
    "# Filtrar DataFrame \n",
    "df_Coordenador_Jr = df[df['Cargo']== 'Coordenador de Vendas Jr.']\n",
    "\n",
    "# Nome do arquivo\n",
    "pasta_destino = 'C:\\\\Users\\\\FIC\\\\Documents\\\\Henrique-Rodrigues\\\\003 - Arquivos\\\\Cargos - vendas\\\\'\n",
    "nome_arquivo = 'Coordenador_Jr.csv'\n",
    "\n",
    "# Salva/ Gerar um arquivo em cvs\n",
    "df_Coordenador_Jr.to_csv(pasta_destino + nome_arquivo)"
   ]
  },
  {
   "cell_type": "code",
   "execution_count": 38,
   "metadata": {},
   "outputs": [],
   "source": [
    "# Filtrar DataFrame \n",
    "df_Supervisor_Jr = df[df['Cargo']== 'Supervisor de Vendas Jr.']\n",
    "\n",
    "# Nome do arquivo\n",
    "pasta_destino = 'C:\\\\Users\\\\FIC\\\\Documents\\\\Henrique-Rodrigues\\\\003 - Arquivos\\\\Cargos - vendas\\\\'\n",
    "nome_arquivo = 'Supervisor_Jr.csv'\n",
    "\n",
    "# Salva/ Gerar um arquivo em cvs\n",
    "df_Supervisor_Jr.to_csv(pasta_destino + nome_arquivo)"
   ]
  },
  {
   "cell_type": "markdown",
   "metadata": {},
   "source": [
    "9. Crie um dataframe para cada coluna, contendo dados únicos."
   ]
  },
  {
   "cell_type": "code",
   "execution_count": 44,
   "metadata": {},
   "outputs": [
    {
     "data": {
      "text/plain": [
       "0        Supervisor de Vendas Pl\n",
       "11          Gerente Regional Jr.\n",
       "37       Supervisor de Vendas Sr\n",
       "48     Coordenador de Vendas Pl.\n",
       "98                  Vendedor Jr.\n",
       "162                 Vendedor Sr.\n",
       "174                 Vendedor Pl.\n",
       "186         Gerente Regional Pl.\n",
       "276    Coordenador de Vendas Sr.\n",
       "285    Coordenador de Vendas Jr.\n",
       "436     Supervisor de Vendas Jr.\n",
       "Name: Cargo, dtype: object"
      ]
     },
     "execution_count": 44,
     "metadata": {},
     "output_type": "execute_result"
    }
   ],
   "source": [
    "# Criar um dataframe apenas com a coluna Cargo\n",
    "dados_cargos = df['Cargo']\n",
    "\n",
    "#Contar quantos elementos existem antes de remover as duplicadas\n",
    "dados_cargos.count()\n",
    "\n",
    "# Criar um novo dataframe sem duplicadas\n",
    "dados_cargos = dados_cargos.drop_duplicates()\n",
    "\n",
    "# Contar quantos elementos ficaram apos remoção das dplicadas\n",
    "dados_cargos.count()\n",
    "\n",
    "dados_cargos"
   ]
  },
  {
   "cell_type": "code",
   "execution_count": null,
   "metadata": {},
   "outputs": [],
   "source": []
  }
 ],
 "metadata": {
  "kernelspec": {
   "display_name": "Python 3",
   "language": "python",
   "name": "python3"
  },
  "language_info": {
   "codemirror_mode": {
    "name": "ipython",
    "version": 3
   },
   "file_extension": ".py",
   "mimetype": "text/x-python",
   "name": "python",
   "nbconvert_exporter": "python",
   "pygments_lexer": "ipython3",
   "version": "3.11.0"
  },
  "orig_nbformat": 4
 },
 "nbformat": 4,
 "nbformat_minor": 2
}
