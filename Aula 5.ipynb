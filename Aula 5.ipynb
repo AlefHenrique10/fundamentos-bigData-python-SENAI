{
 "cells": [
  {
   "cell_type": "markdown",
   "metadata": {},
   "source": [
    "## Exercício 01 - \n",
    "Escreva um programa que imprima todos os números pares de 1\n",
    "a 100. (FOR)"
   ]
  },
  {
   "cell_type": "code",
   "execution_count": null,
   "metadata": {},
   "outputs": [],
   "source": [
    "num = range(1,101)\n",
    "\n",
    "\n",
    "for i in num:\n",
    "    if i % 2 ==0:\n",
    "        print(i)"
   ]
  },
  {
   "cell_type": "markdown",
   "metadata": {},
   "source": [
    "## Exercício 02 - \n",
    "Crie um programa que conte quantas vezes a letra 'a' aparece em\n",
    "uma frase inserida pelo usuário. (FOR e IF)"
   ]
  },
  {
   "cell_type": "code",
   "execution_count": null,
   "metadata": {},
   "outputs": [],
   "source": [
    "frase = input('Digite uma palavra:')\n",
    "\n",
    "frase = frase.lower()\n",
    "\n",
    "contador = 0\n",
    "\n",
    "for letra in frase:\n",
    "    if letra == 'a':\n",
    "        contador = contador + 1\n",
    "print(f'A frase contém {contador} letras A' )"
   ]
  },
  {
   "cell_type": "markdown",
   "metadata": {},
   "source": []
  },
  {
   "cell_type": "code",
   "execution_count": null,
   "metadata": {},
   "outputs": [],
   "source": []
  }
 ],
 "metadata": {
  "kernelspec": {
   "display_name": "Python 3",
   "language": "python",
   "name": "python3"
  },
  "language_info": {
   "codemirror_mode": {
    "name": "ipython",
    "version": 3
   },
   "file_extension": ".py",
   "mimetype": "text/x-python",
   "name": "python",
   "nbconvert_exporter": "python",
   "pygments_lexer": "ipython3",
   "version": "3.11.0"
  },
  "orig_nbformat": 4
 },
 "nbformat": 4,
 "nbformat_minor": 2
}
